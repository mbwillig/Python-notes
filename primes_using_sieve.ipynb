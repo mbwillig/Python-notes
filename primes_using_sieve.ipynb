{
 "cells": [
  {
   "cell_type": "code",
   "execution_count": 39,
   "metadata": {},
   "outputs": [
    {
     "name": "stdout",
     "output_type": "stream",
     "text": [
      "{2, 3, 5, 7, 11, 13, 17, 19, 23, 29, 31, 37, 41, 43, 47, 53, 59, 61, 67, 71, 73, 79, 83, 89, 97}\n"
     ]
    }
   ],
   "source": [
    "def get_primes(upto):\n",
    "    \"\"\" returns all primes upto, but not including the input int\"\"\"\n",
    "    not_primes = set()\n",
    "    for x in range(2,upto):\n",
    "        if x not in not_primes:\n",
    "            not_primes|=set(range(2*x,upto,x))\n",
    "            \n",
    "    return set(range(2,upto))- not_primes\n",
    "\n",
    "print(get_primes(100))"
   ]
  }
 ],
 "metadata": {
  "kernelspec": {
   "display_name": "py36_2",
   "language": "python",
   "name": "py36_2"
  },
  "language_info": {
   "codemirror_mode": {
    "name": "ipython",
    "version": 3
   },
   "file_extension": ".py",
   "mimetype": "text/x-python",
   "name": "python",
   "nbconvert_exporter": "python",
   "pygments_lexer": "ipython3",
   "version": "3.6.6"
  }
 },
 "nbformat": 4,
 "nbformat_minor": 2
}
