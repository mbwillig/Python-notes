{
 "cells": [
  {
   "cell_type": "code",
   "execution_count": 35,
   "metadata": {},
   "outputs": [
    {
     "name": "stdout",
     "output_type": "stream",
     "text": [
      "5 4 3 2 1  |0          |           \n",
      "5 4 3 2    |0          |1          \n",
      "5 4 3 2    |           |1 0        \n",
      "5 4 3      |2          |1 0        \n",
      "5 4 3 0    |2          |1          \n",
      "5 4 3 0    |2 1        |           \n",
      "5 4 3      |2 1 0      |           \n",
      "5 4        |2 1 0      |3          \n",
      "5 4        |2 1        |3 0        \n",
      "5 4 1      |2          |3 0        \n",
      "5 4 1 0    |2          |3          \n",
      "5 4 1 0    |           |3 2        \n",
      "5 4 1      |0          |3 2        \n",
      "5 4        |0          |3 2 1      \n",
      "5 4        |           |3 2 1 0    \n",
      "5          |4          |3 2 1 0    \n",
      "5 0        |4          |3 2 1      \n",
      "5 0        |4 1        |3 2        \n",
      "5          |4 1 0      |3 2        \n",
      "5 2        |4 1 0      |3          \n",
      "5 2        |4 1        |3 0        \n",
      "5 2 1      |4          |3 0        \n",
      "5 2 1 0    |4          |3          \n",
      "5 2 1 0    |4 3        |           \n",
      "5 2 1      |4 3 0      |           \n",
      "5 2        |4 3 0      |1          \n",
      "5 2        |4 3        |1 0        \n",
      "5          |4 3 2      |1 0        \n",
      "5 0        |4 3 2      |1          \n",
      "5 0        |4 3 2 1    |           \n",
      "5          |4 3 2 1 0  |           \n",
      "           |4 3 2 1 0  |5          \n",
      "           |4 3 2 1    |5 0        \n",
      "1          |4 3 2      |5 0        \n",
      "1 0        |4 3 2      |5          \n",
      "1 0        |4 3        |5 2        \n",
      "1          |4 3 0      |5 2        \n",
      "           |4 3 0      |5 2 1      \n",
      "           |4 3        |5 2 1 0    \n",
      "3          |4          |5 2 1 0    \n",
      "3 0        |4          |5 2 1      \n",
      "3 0        |4 1        |5 2        \n",
      "3          |4 1 0      |5 2        \n",
      "3 2        |4 1 0      |5          \n",
      "3 2        |4 1        |5 0        \n",
      "3 2 1      |4          |5 0        \n",
      "3 2 1 0    |4          |5          \n",
      "3 2 1 0    |           |5 4        \n",
      "3 2 1      |0          |5 4        \n",
      "3 2        |0          |5 4 1      \n",
      "3 2        |           |5 4 1 0    \n",
      "3          |2          |5 4 1 0    \n",
      "3 0        |2          |5 4 1      \n",
      "3 0        |2 1        |5 4        \n",
      "3          |2 1 0      |5 4        \n",
      "           |2 1 0      |5 4 3      \n",
      "           |2 1        |5 4 3 0    \n",
      "1          |2          |5 4 3 0    \n",
      "1 0        |2          |5 4 3      \n",
      "1 0        |           |5 4 3 2    \n",
      "1          |0          |5 4 3 2    \n",
      "           |0          |5 4 3 2 1  \n",
      "           |           |5 4 3 2 1 0\n"
     ]
    }
   ],
   "source": [
    "from collections import deque \n",
    "n_disks = 6\n",
    "towers = (deque(range(n_disks)[::-1]),deque(),deque())\n",
    "\n",
    "def move(source,target,n):\n",
    "    aux = 3-(source+target)\n",
    "    if n ==1:\n",
    "        towers[target].append(towers[source].pop())\n",
    "        print_towers()\n",
    "    else:\n",
    "        move(source,aux,n-1)\n",
    "        towers[target].append(towers[source].pop())\n",
    "        print_towers()\n",
    "        move(aux,target,n-1)\n",
    "    \n",
    "def print_towers():\n",
    "    print(\"|\".join(\n",
    "        [\" \".join([str(x) for x in tower] + [\" \"]*(n_disks-len(tower)))\n",
    "                    for tower in towers]))\n",
    "        \n",
    "move(0,2,n_disks)\n"
   ]
  },
  {
   "cell_type": "code",
   "execution_count": null,
   "metadata": {
    "collapsed": true
   },
   "outputs": [],
   "source": []
  }
 ],
 "metadata": {
  "kernelspec": {
   "display_name": "py36_2",
   "language": "python",
   "name": "py36_2"
  },
  "language_info": {
   "codemirror_mode": {
    "name": "ipython",
    "version": 3
   },
   "file_extension": ".py",
   "mimetype": "text/x-python",
   "name": "python",
   "nbconvert_exporter": "python",
   "pygments_lexer": "ipython3",
   "version": "3.6.6"
  }
 },
 "nbformat": 4,
 "nbformat_minor": 2
}
