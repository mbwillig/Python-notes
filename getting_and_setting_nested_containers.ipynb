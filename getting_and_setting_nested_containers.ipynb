{
 "cells": [
  {
   "cell_type": "code",
   "execution_count": 1,
   "metadata": {},
   "outputs": [],
   "source": [
    "from functools import reduce\n",
    "\n",
    "def get_from_nested_container(container,keylist):\n",
    "    return reduce(lambda x,y: x[y], [container]+keylist)\n",
    "\n",
    "def set_in_nested_container(container,keylist,value):\n",
    "    one_lvl_up= reduce(lambda x,y: x[y], [container]+keylist[0:-1])\n",
    "    one_lvl_up[keylist[-1]]=value\n",
    "\n"
   ]
  },
  {
   "cell_type": "markdown",
   "metadata": {},
   "source": [
    "# test getting"
   ]
  },
  {
   "cell_type": "code",
   "execution_count": 2,
   "metadata": {},
   "outputs": [
    {
     "name": "stdout",
     "output_type": "stream",
     "text": [
      "2\n"
     ]
    }
   ],
   "source": [
    "list_container= [[[1,2],[3,4]],[[5,6],[7,8]],9]\n",
    "print get_from_nested_container(list_container,[0,0,1]) # = 2"
   ]
  },
  {
   "cell_type": "code",
   "execution_count": 3,
   "metadata": {},
   "outputs": [
    {
     "name": "stdout",
     "output_type": "stream",
     "text": [
      "2048\n"
     ]
    }
   ],
   "source": [
    "dict_container = {\n",
    "    \"wallet\":{\n",
    "        \"bills\":{\n",
    "            \"5 eu\": 2,\n",
    "            \"10 eu\": 1,\n",
    "            \"50 eu\":0},\n",
    "\n",
    "        \"coins\":{\n",
    "            \"1c\": 2048,\n",
    "            \"2c\": 100,\n",
    "            \"5c\": 20,\n",
    "            \"10c\":10,\n",
    "            \"20c\":10,\n",
    "            \"50c\":5,\n",
    "            \"1eu\":2,\n",
    "            \"2eu\":2} \n",
    "    },\n",
    "    \"strongbox\":{\n",
    "        \"gold bars\": 0,\n",
    "        \"rock samples\": 25}\n",
    "}\n",
    "\n",
    "# getting \n",
    "print get_from_nested_container(dict_container,[\"wallet\",\"coins\",\"1c\"]) # = 2048"
   ]
  },
  {
   "cell_type": "markdown",
   "metadata": {},
   "source": [
    "# test setting"
   ]
  },
  {
   "cell_type": "code",
   "execution_count": 4,
   "metadata": {},
   "outputs": [
    {
     "name": "stdout",
     "output_type": "stream",
     "text": [
      "[[[1, -1], [3, 4]], [[5, 6], [7, 8]], 9]\n"
     ]
    }
   ],
   "source": [
    "set_in_nested_container(list_container,[0,0,1],-1)\n",
    "print list_container"
   ]
  },
  {
   "cell_type": "code",
   "execution_count": 5,
   "metadata": {},
   "outputs": [
    {
     "name": "stdout",
     "output_type": "stream",
     "text": [
      "{'wallet': {'coins': {'1c': 0, '1eu': 2, '2c': 100, '10c': 10, '2eu': 2, '20c': 10, '5c': 20, '50c': 5}, 'bills': {'5 eu': 2, '10 eu': 1, '50 eu': 0}}, 'strongbox': {'gold bars': 0, 'rock samples': 25}}\n"
     ]
    }
   ],
   "source": [
    "set_in_nested_container(dict_container,[\"wallet\",\"coins\",\"1c\"],0)\n",
    "print dict_container"
   ]
  },
  {
   "cell_type": "markdown",
   "metadata": {},
   "source": [
    "# test non-nested containers"
   ]
  },
  {
   "cell_type": "code",
   "execution_count": 6,
   "metadata": {},
   "outputs": [
    {
     "name": "stdout",
     "output_type": "stream",
     "text": [
      "1\n"
     ]
    }
   ],
   "source": [
    "print get_from_nested_container([1],[0]) # = 1"
   ]
  },
  {
   "cell_type": "code",
   "execution_count": 7,
   "metadata": {},
   "outputs": [
    {
     "name": "stdout",
     "output_type": "stream",
     "text": [
      "{'new_value': 5}\n"
     ]
    }
   ],
   "source": [
    "a = {}\n",
    "set_in_nested_container(a,[\"new_value\"],5)\n",
    "print a"
   ]
  }
 ],
 "metadata": {
  "kernelspec": {
   "display_name": "Python 2",
   "language": "python",
   "name": "python2"
  },
  "language_info": {
   "codemirror_mode": {
    "name": "ipython",
    "version": 2
   },
   "file_extension": ".py",
   "mimetype": "text/x-python",
   "name": "python",
   "nbconvert_exporter": "python",
   "pygments_lexer": "ipython2",
   "version": "2.7.13"
  }
 },
 "nbformat": 4,
 "nbformat_minor": 2
}
