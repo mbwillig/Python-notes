{
 "cells": [
  {
   "cell_type": "markdown",
   "metadata": {},
   "source": [
    "** functional programming approach to chaining functions **\n",
    "The following code is merely written to get a better grasp of functional programming in python and is not reccomended for use in production. "
   ]
  },
  {
   "cell_type": "code",
   "execution_count": 9,
   "metadata": {},
   "outputs": [
    {
     "data": {
      "text/plain": [
       "22222.0"
      ]
     },
     "execution_count": 9,
     "metadata": {},
     "output_type": "execute_result"
    }
   ],
   "source": [
    "# chaining functions with single inputs\n",
    "import math\n",
    "\n",
    "def chain_formulas(function_list,input_var):\n",
    "    return reduce(lambda x,y: y(x), function_list, input_var)\n",
    "\n",
    "# test \n",
    "function_list = [lambda x: x+3,\n",
    "                 math.sqrt,\n",
    "                 int,\n",
    "                 str,\n",
    "                 lambda x: x*5,\n",
    "                 float\n",
    "                ]\n",
    "\n",
    "chain_formulas(input_var=1,function_list=function_list)"
   ]
  },
  {
   "cell_type": "code",
   "execution_count": 1,
   "metadata": {},
   "outputs": [
    {
     "data": {
      "text/plain": [
       "[2322, 2324]"
      ]
     },
     "execution_count": 1,
     "metadata": {},
     "output_type": "execute_result"
    }
   ],
   "source": [
    "# chaining functions with single and/or multiple inputs. \n",
    "# Does not support buildin functions as they do not have the \".func_code\" attribute\n",
    "# functions with optional arguments are not reccomended as input\n",
    "\n",
    "def run_one_function(arg_or_args,func):\n",
    "    if func.func_code.co_argcount==1:\n",
    "        return func(arg_or_args)\n",
    "    elif func.func_code.co_argcount==0:\n",
    "        return func()\n",
    "    else:\n",
    "        return func(*arg_or_args)\n",
    "\n",
    "def chain_formulas_multiple_input(function_list,input_var):\n",
    "    return reduce(run_one_function, function_list, input_var)\n",
    "\n",
    "# test\n",
    "function_list = [\n",
    "    lambda x,y: [x**y,5],\n",
    "    lambda : [2,5], # 0 args -> 2 args\n",
    "    lambda x,y: [x**2-y,y**2-x], \n",
    "    lambda x,y: max([x,y]), # 2 args -> 1 arg\n",
    "    lambda x: str(x),\n",
    "    lambda x: x*2,\n",
    "    lambda x: int(x),\n",
    "    lambda x: [x-1,x+1] # 1 arg -> 2 args\n",
    "]\n",
    "\n",
    "chain_formulas_multiple_input(function_list=function_list,input_var=[2,5])\n"
   ]
  },
  {
   "cell_type": "code",
   "execution_count": 77,
   "metadata": {},
   "outputs": [
    {
     "name": "stdout",
     "output_type": "stream",
     "text": [
      "2\n"
     ]
    }
   ],
   "source": [
    "print (lambda x,y:x).func_code.co_argcount"
   ]
  },
  {
   "cell_type": "code",
   "execution_count": null,
   "metadata": {
    "collapsed": true
   },
   "outputs": [],
   "source": []
  }
 ],
 "metadata": {
  "kernelspec": {
   "display_name": "Python 2",
   "language": "python",
   "name": "python2"
  },
  "language_info": {
   "codemirror_mode": {
    "name": "ipython",
    "version": 2
   },
   "file_extension": ".py",
   "mimetype": "text/x-python",
   "name": "python",
   "nbconvert_exporter": "python",
   "pygments_lexer": "ipython2",
   "version": "2.7.13"
  }
 },
 "nbformat": 4,
 "nbformat_minor": 2
}
