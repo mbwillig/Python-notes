{
 "cells": [
  {
   "cell_type": "code",
   "execution_count": 35,
   "metadata": {},
   "outputs": [
    {
     "name": "stdout",
     "output_type": "stream",
     "text": [
      "running a_plus_b_times_c\n",
      "input (1, 3, 1)\n",
      "wront type in function  a_plus_b_times_c , expected  <type 'str'>  found  <type 'int'> argument  3\n",
      "output None\n",
      "\n",
      "\n",
      "running a_plus_b_times_c\n",
      "input (1, 3, 'banana')\n",
      "output bananabananabananabanana\n"
     ]
    },
    {
     "data": {
      "text/plain": [
       "'bananabananabananabanana'"
      ]
     },
     "execution_count": 35,
     "metadata": {},
     "output_type": "execute_result"
    }
   ],
   "source": [
    "\n",
    "# Decorator without args: func <- decorator(func)\n",
    "\n",
    "def print_input_and_output_decorator(fn):\n",
    "    def fn2(*inp):\n",
    "        print \"running\", fn.__name__\n",
    "        print \"input\",inp\n",
    "        outp = fn(*inp)\n",
    "        print \"output\",outp\n",
    "        return outp\n",
    "    fn2.__name__=fn.__name__\n",
    "    return fn2\n",
    "\n",
    "# decorator with args: \n",
    "# func <- decorator(args)(func) \n",
    "\n",
    "# unpacked:\n",
    "# real_decorator = decorator(args)\n",
    "# func <- real_decorator(func)\n",
    "#\n",
    "\n",
    "def typecheck_decorator(vartypes): \n",
    "    def decorator(fn):\n",
    "        def fn2(*args):\n",
    "            for i in range(len(args)):\n",
    "                if type(args[i])!=vartypes[i]:\n",
    "                    print \"wrong type in function \", fn.__name__,\", expected \", vartypes[i],\" found \", type(args[i]),\"argument \",i+1\n",
    "                    break\n",
    "            else:\n",
    "                return fn(*args)\n",
    "        fn2.__name__=fn.__name__\n",
    "        return fn2\n",
    "    return decorator\n",
    "        \n",
    "# multiple decorators run outside to inside, top to bottom. In this case the original function is wrapped by typechecking \n",
    "# which is wrapped by printing decorator. A function call then goes:\n",
    "# global ->\n",
    "#       printing_decorator ->\n",
    "#              typecheck decorator ->\n",
    "#                         function/typecheck bounce \n",
    "#              typecheck decorator \n",
    "#       printing \n",
    "# global\n",
    "\n",
    "@print_input_and_output_decorator\n",
    "@typecheck_decorator([int,int,str])\n",
    "def a_plus_b_times_c(a,b,c):\n",
    "    return (a+b)*c\n",
    "\n",
    "\n",
    "a_plus_b_times_c(1,3,1)\n",
    "print \"\\n\"\n",
    "a_plus_b_times_c(1,3,\"banana\")\n",
    "    \n"
   ]
  },
  {
   "cell_type": "code",
   "execution_count": null,
   "metadata": {
    "collapsed": true
   },
   "outputs": [],
   "source": []
  },
  {
   "cell_type": "code",
   "execution_count": null,
   "metadata": {
    "collapsed": true
   },
   "outputs": [],
   "source": []
  }
 ],
 "metadata": {
  "kernelspec": {
   "display_name": "Python 2",
   "language": "python",
   "name": "python2"
  },
  "language_info": {
   "codemirror_mode": {
    "name": "ipython",
    "version": 2
   },
   "file_extension": ".py",
   "mimetype": "text/x-python",
   "name": "python",
   "nbconvert_exporter": "python",
   "pygments_lexer": "ipython2",
   "version": "2.7.13"
  }
 },
 "nbformat": 4,
 "nbformat_minor": 2
}
